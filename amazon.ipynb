{
 "cells": [
  {
   "cell_type": "markdown",
   "metadata": {},
   "source": [
    "# How Much Have I Spent On Amazon? A Data Analysis Project\n",
    "\n",
    "In this project, I'm going to analyze my total order history from Amazon for 13 years since I first used the service. This dataset will be based on records starting from 1/1/2007 all the way until today (5/20/2020).\n",
    "\n",
    "I'm scared. But let's get started.\n",
    "\n",
    "### Reading In The Data"
   ]
  },
  {
   "cell_type": "code",
   "execution_count": 1,
   "metadata": {},
   "outputs": [
    {
     "data": {
      "text/html": [
       "<div>\n",
       "<style scoped>\n",
       "    .dataframe tbody tr th:only-of-type {\n",
       "        vertical-align: middle;\n",
       "    }\n",
       "\n",
       "    .dataframe tbody tr th {\n",
       "        vertical-align: top;\n",
       "    }\n",
       "\n",
       "    .dataframe thead th {\n",
       "        text-align: right;\n",
       "    }\n",
       "</style>\n",
       "<table border=\"1\" class=\"dataframe\">\n",
       "  <thead>\n",
       "    <tr style=\"text-align: right;\">\n",
       "      <th></th>\n",
       "      <th>Order Date</th>\n",
       "      <th>Order ID</th>\n",
       "      <th>Payment Instrument Type</th>\n",
       "      <th>Website</th>\n",
       "      <th>Shipment Date</th>\n",
       "      <th>Shipping Address State</th>\n",
       "      <th>Shipping Address Zip</th>\n",
       "      <th>Order Status</th>\n",
       "      <th>Carrier Name &amp; Tracking Number</th>\n",
       "      <th>Subtotal</th>\n",
       "      <th>Shipping Charge</th>\n",
       "      <th>Tax Before Promotions</th>\n",
       "      <th>Total Promotions</th>\n",
       "      <th>Tax Charged</th>\n",
       "      <th>Total Charged</th>\n",
       "    </tr>\n",
       "  </thead>\n",
       "  <tbody>\n",
       "    <tr>\n",
       "      <th>0</th>\n",
       "      <td>07/06/07</td>\n",
       "      <td>103-2764742-3491028</td>\n",
       "      <td>Visa - 1453</td>\n",
       "      <td>Amazon.com</td>\n",
       "      <td>07/06/07</td>\n",
       "      <td>MA</td>\n",
       "      <td>01970-1947</td>\n",
       "      <td>Shipped</td>\n",
       "      <td>NaN</td>\n",
       "      <td>$14.40</td>\n",
       "      <td>$9.50</td>\n",
       "      <td>$0.00</td>\n",
       "      <td>$0.00</td>\n",
       "      <td>$0.00</td>\n",
       "      <td>$23.90</td>\n",
       "    </tr>\n",
       "    <tr>\n",
       "      <th>1</th>\n",
       "      <td>09/22/08</td>\n",
       "      <td>104-7596537-6649000</td>\n",
       "      <td>Visa - 1453</td>\n",
       "      <td>Amazon.com</td>\n",
       "      <td>09/23/08</td>\n",
       "      <td>MA</td>\n",
       "      <td>01970-1947</td>\n",
       "      <td>Shipped</td>\n",
       "      <td>UPS(1Z4137VY0340540107)</td>\n",
       "      <td>$39.95</td>\n",
       "      <td>$9.99</td>\n",
       "      <td>$0.00</td>\n",
       "      <td>$0.00</td>\n",
       "      <td>$0.00</td>\n",
       "      <td>$49.94</td>\n",
       "    </tr>\n",
       "    <tr>\n",
       "      <th>2</th>\n",
       "      <td>02/11/11</td>\n",
       "      <td>102-5161586-1874623</td>\n",
       "      <td>Gift Certificate/Card</td>\n",
       "      <td>Amazon.com</td>\n",
       "      <td>02/15/11</td>\n",
       "      <td>MA</td>\n",
       "      <td>1970</td>\n",
       "      <td>Shipped</td>\n",
       "      <td>UPS(1Z787Y561244238320)</td>\n",
       "      <td>$9.65</td>\n",
       "      <td>$3.43</td>\n",
       "      <td>$0.00</td>\n",
       "      <td>$3.43</td>\n",
       "      <td>$0.00</td>\n",
       "      <td>$9.65</td>\n",
       "    </tr>\n",
       "    <tr>\n",
       "      <th>3</th>\n",
       "      <td>02/11/11</td>\n",
       "      <td>102-5161586-1874623</td>\n",
       "      <td>Gift Certificate/Card</td>\n",
       "      <td>Amazon.com</td>\n",
       "      <td>02/15/11</td>\n",
       "      <td>MA</td>\n",
       "      <td>1970</td>\n",
       "      <td>Shipped</td>\n",
       "      <td>USPS(9102901001302207651788)</td>\n",
       "      <td>$23.91</td>\n",
       "      <td>$3.98</td>\n",
       "      <td>$0.00</td>\n",
       "      <td>$3.98</td>\n",
       "      <td>$0.00</td>\n",
       "      <td>$23.91</td>\n",
       "    </tr>\n",
       "    <tr>\n",
       "      <th>4</th>\n",
       "      <td>02/11/11</td>\n",
       "      <td>102-5161586-1874623</td>\n",
       "      <td>Gift Certificate/Card</td>\n",
       "      <td>Amazon.com</td>\n",
       "      <td>02/13/11</td>\n",
       "      <td>MA</td>\n",
       "      <td>1970</td>\n",
       "      <td>Shipped</td>\n",
       "      <td>USPS(9102901001298212501449)</td>\n",
       "      <td>$19.95</td>\n",
       "      <td>$2.32</td>\n",
       "      <td>$0.00</td>\n",
       "      <td>$2.32</td>\n",
       "      <td>$0.00</td>\n",
       "      <td>$19.95</td>\n",
       "    </tr>\n",
       "  </tbody>\n",
       "</table>\n",
       "</div>"
      ],
      "text/plain": [
       "  Order Date             Order ID Payment Instrument Type     Website  \\\n",
       "0   07/06/07  103-2764742-3491028             Visa - 1453  Amazon.com   \n",
       "1   09/22/08  104-7596537-6649000             Visa - 1453  Amazon.com   \n",
       "2   02/11/11  102-5161586-1874623   Gift Certificate/Card  Amazon.com   \n",
       "3   02/11/11  102-5161586-1874623   Gift Certificate/Card  Amazon.com   \n",
       "4   02/11/11  102-5161586-1874623   Gift Certificate/Card  Amazon.com   \n",
       "\n",
       "  Shipment Date Shipping Address State Shipping Address Zip Order Status  \\\n",
       "0      07/06/07                     MA           01970-1947      Shipped   \n",
       "1      09/23/08                     MA           01970-1947      Shipped   \n",
       "2      02/15/11                     MA                 1970      Shipped   \n",
       "3      02/15/11                     MA                 1970      Shipped   \n",
       "4      02/13/11                     MA                 1970      Shipped   \n",
       "\n",
       "  Carrier Name & Tracking Number Subtotal Shipping Charge  \\\n",
       "0                            NaN   $14.40           $9.50   \n",
       "1        UPS(1Z4137VY0340540107)   $39.95           $9.99   \n",
       "2        UPS(1Z787Y561244238320)    $9.65           $3.43   \n",
       "3   USPS(9102901001302207651788)   $23.91           $3.98   \n",
       "4   USPS(9102901001298212501449)   $19.95           $2.32   \n",
       "\n",
       "  Tax Before Promotions Total Promotions Tax Charged Total Charged  \n",
       "0                 $0.00            $0.00       $0.00        $23.90  \n",
       "1                 $0.00            $0.00       $0.00        $49.94  \n",
       "2                 $0.00            $3.43       $0.00         $9.65  \n",
       "3                 $0.00            $3.98       $0.00        $23.91  \n",
       "4                 $0.00            $2.32       $0.00        $19.95  "
      ]
     },
     "execution_count": 1,
     "metadata": {},
     "output_type": "execute_result"
    }
   ],
   "source": [
    "import pandas as pd\n",
    "\n",
    "df = pd.read_csv(\"amazon-orders.csv\")\n",
    "df.head()"
   ]
  },
  {
   "cell_type": "code",
   "execution_count": 2,
   "metadata": {},
   "outputs": [
    {
     "data": {
      "text/plain": [
       "(350, 15)"
      ]
     },
     "execution_count": 2,
     "metadata": {},
     "output_type": "execute_result"
    }
   ],
   "source": [
    "df.shape"
   ]
  },
  {
   "cell_type": "markdown",
   "metadata": {},
   "source": [
    "### Cleaning The Data"
   ]
  },
  {
   "cell_type": "code",
   "execution_count": 3,
   "metadata": {},
   "outputs": [
    {
     "data": {
      "text/html": [
       "<div>\n",
       "<style scoped>\n",
       "    .dataframe tbody tr th:only-of-type {\n",
       "        vertical-align: middle;\n",
       "    }\n",
       "\n",
       "    .dataframe tbody tr th {\n",
       "        vertical-align: top;\n",
       "    }\n",
       "\n",
       "    .dataframe thead th {\n",
       "        text-align: right;\n",
       "    }\n",
       "</style>\n",
       "<table border=\"1\" class=\"dataframe\">\n",
       "  <thead>\n",
       "    <tr style=\"text-align: right;\">\n",
       "      <th></th>\n",
       "      <th>Order Date</th>\n",
       "      <th>Order ID</th>\n",
       "      <th>Payment Instrument Type</th>\n",
       "      <th>Website</th>\n",
       "      <th>Shipment Date</th>\n",
       "      <th>Shipping Address State</th>\n",
       "      <th>Shipping Address Zip</th>\n",
       "      <th>Order Status</th>\n",
       "      <th>Carrier Name &amp; Tracking Number</th>\n",
       "      <th>Subtotal</th>\n",
       "      <th>Shipping Charge</th>\n",
       "      <th>Tax Before Promotions</th>\n",
       "      <th>Total Promotions</th>\n",
       "      <th>Tax Charged</th>\n",
       "      <th>Total Charged</th>\n",
       "    </tr>\n",
       "  </thead>\n",
       "  <tbody>\n",
       "    <tr>\n",
       "      <th>0</th>\n",
       "      <td>07/06/07</td>\n",
       "      <td>103-2764742-3491028</td>\n",
       "      <td>Visa - 1453</td>\n",
       "      <td>Amazon.com</td>\n",
       "      <td>07/06/07</td>\n",
       "      <td>MA</td>\n",
       "      <td>01970-1947</td>\n",
       "      <td>Shipped</td>\n",
       "      <td>0</td>\n",
       "      <td>$14.40</td>\n",
       "      <td>$9.50</td>\n",
       "      <td>$0.00</td>\n",
       "      <td>$0.00</td>\n",
       "      <td>$0.00</td>\n",
       "      <td>$23.90</td>\n",
       "    </tr>\n",
       "    <tr>\n",
       "      <th>1</th>\n",
       "      <td>09/22/08</td>\n",
       "      <td>104-7596537-6649000</td>\n",
       "      <td>Visa - 1453</td>\n",
       "      <td>Amazon.com</td>\n",
       "      <td>09/23/08</td>\n",
       "      <td>MA</td>\n",
       "      <td>01970-1947</td>\n",
       "      <td>Shipped</td>\n",
       "      <td>UPS(1Z4137VY0340540107)</td>\n",
       "      <td>$39.95</td>\n",
       "      <td>$9.99</td>\n",
       "      <td>$0.00</td>\n",
       "      <td>$0.00</td>\n",
       "      <td>$0.00</td>\n",
       "      <td>$49.94</td>\n",
       "    </tr>\n",
       "    <tr>\n",
       "      <th>2</th>\n",
       "      <td>02/11/11</td>\n",
       "      <td>102-5161586-1874623</td>\n",
       "      <td>Gift Certificate/Card</td>\n",
       "      <td>Amazon.com</td>\n",
       "      <td>02/15/11</td>\n",
       "      <td>MA</td>\n",
       "      <td>1970</td>\n",
       "      <td>Shipped</td>\n",
       "      <td>UPS(1Z787Y561244238320)</td>\n",
       "      <td>$9.65</td>\n",
       "      <td>$3.43</td>\n",
       "      <td>$0.00</td>\n",
       "      <td>$3.43</td>\n",
       "      <td>$0.00</td>\n",
       "      <td>$9.65</td>\n",
       "    </tr>\n",
       "    <tr>\n",
       "      <th>3</th>\n",
       "      <td>02/11/11</td>\n",
       "      <td>102-5161586-1874623</td>\n",
       "      <td>Gift Certificate/Card</td>\n",
       "      <td>Amazon.com</td>\n",
       "      <td>02/15/11</td>\n",
       "      <td>MA</td>\n",
       "      <td>1970</td>\n",
       "      <td>Shipped</td>\n",
       "      <td>USPS(9102901001302207651788)</td>\n",
       "      <td>$23.91</td>\n",
       "      <td>$3.98</td>\n",
       "      <td>$0.00</td>\n",
       "      <td>$3.98</td>\n",
       "      <td>$0.00</td>\n",
       "      <td>$23.91</td>\n",
       "    </tr>\n",
       "    <tr>\n",
       "      <th>4</th>\n",
       "      <td>02/11/11</td>\n",
       "      <td>102-5161586-1874623</td>\n",
       "      <td>Gift Certificate/Card</td>\n",
       "      <td>Amazon.com</td>\n",
       "      <td>02/13/11</td>\n",
       "      <td>MA</td>\n",
       "      <td>1970</td>\n",
       "      <td>Shipped</td>\n",
       "      <td>USPS(9102901001298212501449)</td>\n",
       "      <td>$19.95</td>\n",
       "      <td>$2.32</td>\n",
       "      <td>$0.00</td>\n",
       "      <td>$2.32</td>\n",
       "      <td>$0.00</td>\n",
       "      <td>$19.95</td>\n",
       "    </tr>\n",
       "  </tbody>\n",
       "</table>\n",
       "</div>"
      ],
      "text/plain": [
       "  Order Date             Order ID Payment Instrument Type     Website  \\\n",
       "0   07/06/07  103-2764742-3491028             Visa - 1453  Amazon.com   \n",
       "1   09/22/08  104-7596537-6649000             Visa - 1453  Amazon.com   \n",
       "2   02/11/11  102-5161586-1874623   Gift Certificate/Card  Amazon.com   \n",
       "3   02/11/11  102-5161586-1874623   Gift Certificate/Card  Amazon.com   \n",
       "4   02/11/11  102-5161586-1874623   Gift Certificate/Card  Amazon.com   \n",
       "\n",
       "  Shipment Date Shipping Address State Shipping Address Zip Order Status  \\\n",
       "0      07/06/07                     MA           01970-1947      Shipped   \n",
       "1      09/23/08                     MA           01970-1947      Shipped   \n",
       "2      02/15/11                     MA                 1970      Shipped   \n",
       "3      02/15/11                     MA                 1970      Shipped   \n",
       "4      02/13/11                     MA                 1970      Shipped   \n",
       "\n",
       "  Carrier Name & Tracking Number Subtotal Shipping Charge  \\\n",
       "0                              0   $14.40           $9.50   \n",
       "1        UPS(1Z4137VY0340540107)   $39.95           $9.99   \n",
       "2        UPS(1Z787Y561244238320)    $9.65           $3.43   \n",
       "3   USPS(9102901001302207651788)   $23.91           $3.98   \n",
       "4   USPS(9102901001298212501449)   $19.95           $2.32   \n",
       "\n",
       "  Tax Before Promotions Total Promotions Tax Charged Total Charged  \n",
       "0                 $0.00            $0.00       $0.00        $23.90  \n",
       "1                 $0.00            $0.00       $0.00        $49.94  \n",
       "2                 $0.00            $3.43       $0.00         $9.65  \n",
       "3                 $0.00            $3.98       $0.00        $23.91  \n",
       "4                 $0.00            $2.32       $0.00        $19.95  "
      ]
     },
     "execution_count": 3,
     "metadata": {},
     "output_type": "execute_result"
    }
   ],
   "source": [
    "# Replace null values with 0\n",
    "df = df.fillna(0)\n",
    "df.head()"
   ]
  },
  {
   "cell_type": "markdown",
   "metadata": {},
   "source": [
    "### How Much Did I Spend In Total On Amazon?\n",
    "\n",
    "Now that we understand the data a little bit, let's investigate the \"Total Charged\" column."
   ]
  },
  {
   "cell_type": "code",
   "execution_count": 4,
   "metadata": {},
   "outputs": [
    {
     "data": {
      "text/html": [
       "<div>\n",
       "<style scoped>\n",
       "    .dataframe tbody tr th:only-of-type {\n",
       "        vertical-align: middle;\n",
       "    }\n",
       "\n",
       "    .dataframe tbody tr th {\n",
       "        vertical-align: top;\n",
       "    }\n",
       "\n",
       "    .dataframe thead th {\n",
       "        text-align: right;\n",
       "    }\n",
       "</style>\n",
       "<table border=\"1\" class=\"dataframe\">\n",
       "  <thead>\n",
       "    <tr style=\"text-align: right;\">\n",
       "      <th></th>\n",
       "      <th>Order Date</th>\n",
       "      <th>Order ID</th>\n",
       "      <th>Payment Instrument Type</th>\n",
       "      <th>Website</th>\n",
       "      <th>Shipment Date</th>\n",
       "      <th>Shipping Address State</th>\n",
       "      <th>Shipping Address Zip</th>\n",
       "      <th>Order Status</th>\n",
       "      <th>Carrier Name &amp; Tracking Number</th>\n",
       "      <th>Subtotal</th>\n",
       "      <th>Shipping Charge</th>\n",
       "      <th>Tax Before Promotions</th>\n",
       "      <th>Total Promotions</th>\n",
       "      <th>Tax Charged</th>\n",
       "      <th>Total Charged</th>\n",
       "    </tr>\n",
       "  </thead>\n",
       "  <tbody>\n",
       "    <tr>\n",
       "      <th>0</th>\n",
       "      <td>07/06/07</td>\n",
       "      <td>103-2764742-3491028</td>\n",
       "      <td>Visa - 1453</td>\n",
       "      <td>Amazon.com</td>\n",
       "      <td>07/06/07</td>\n",
       "      <td>MA</td>\n",
       "      <td>01970-1947</td>\n",
       "      <td>Shipped</td>\n",
       "      <td>0</td>\n",
       "      <td>$14.40</td>\n",
       "      <td>$9.50</td>\n",
       "      <td>$0.00</td>\n",
       "      <td>$0.00</td>\n",
       "      <td>$0.00</td>\n",
       "      <td>23.90</td>\n",
       "    </tr>\n",
       "    <tr>\n",
       "      <th>1</th>\n",
       "      <td>09/22/08</td>\n",
       "      <td>104-7596537-6649000</td>\n",
       "      <td>Visa - 1453</td>\n",
       "      <td>Amazon.com</td>\n",
       "      <td>09/23/08</td>\n",
       "      <td>MA</td>\n",
       "      <td>01970-1947</td>\n",
       "      <td>Shipped</td>\n",
       "      <td>UPS(1Z4137VY0340540107)</td>\n",
       "      <td>$39.95</td>\n",
       "      <td>$9.99</td>\n",
       "      <td>$0.00</td>\n",
       "      <td>$0.00</td>\n",
       "      <td>$0.00</td>\n",
       "      <td>49.94</td>\n",
       "    </tr>\n",
       "    <tr>\n",
       "      <th>2</th>\n",
       "      <td>02/11/11</td>\n",
       "      <td>102-5161586-1874623</td>\n",
       "      <td>Gift Certificate/Card</td>\n",
       "      <td>Amazon.com</td>\n",
       "      <td>02/15/11</td>\n",
       "      <td>MA</td>\n",
       "      <td>1970</td>\n",
       "      <td>Shipped</td>\n",
       "      <td>UPS(1Z787Y561244238320)</td>\n",
       "      <td>$9.65</td>\n",
       "      <td>$3.43</td>\n",
       "      <td>$0.00</td>\n",
       "      <td>$3.43</td>\n",
       "      <td>$0.00</td>\n",
       "      <td>9.65</td>\n",
       "    </tr>\n",
       "    <tr>\n",
       "      <th>3</th>\n",
       "      <td>02/11/11</td>\n",
       "      <td>102-5161586-1874623</td>\n",
       "      <td>Gift Certificate/Card</td>\n",
       "      <td>Amazon.com</td>\n",
       "      <td>02/15/11</td>\n",
       "      <td>MA</td>\n",
       "      <td>1970</td>\n",
       "      <td>Shipped</td>\n",
       "      <td>USPS(9102901001302207651788)</td>\n",
       "      <td>$23.91</td>\n",
       "      <td>$3.98</td>\n",
       "      <td>$0.00</td>\n",
       "      <td>$3.98</td>\n",
       "      <td>$0.00</td>\n",
       "      <td>23.91</td>\n",
       "    </tr>\n",
       "    <tr>\n",
       "      <th>4</th>\n",
       "      <td>02/11/11</td>\n",
       "      <td>102-5161586-1874623</td>\n",
       "      <td>Gift Certificate/Card</td>\n",
       "      <td>Amazon.com</td>\n",
       "      <td>02/13/11</td>\n",
       "      <td>MA</td>\n",
       "      <td>1970</td>\n",
       "      <td>Shipped</td>\n",
       "      <td>USPS(9102901001298212501449)</td>\n",
       "      <td>$19.95</td>\n",
       "      <td>$2.32</td>\n",
       "      <td>$0.00</td>\n",
       "      <td>$2.32</td>\n",
       "      <td>$0.00</td>\n",
       "      <td>19.95</td>\n",
       "    </tr>\n",
       "  </tbody>\n",
       "</table>\n",
       "</div>"
      ],
      "text/plain": [
       "  Order Date             Order ID Payment Instrument Type     Website  \\\n",
       "0   07/06/07  103-2764742-3491028             Visa - 1453  Amazon.com   \n",
       "1   09/22/08  104-7596537-6649000             Visa - 1453  Amazon.com   \n",
       "2   02/11/11  102-5161586-1874623   Gift Certificate/Card  Amazon.com   \n",
       "3   02/11/11  102-5161586-1874623   Gift Certificate/Card  Amazon.com   \n",
       "4   02/11/11  102-5161586-1874623   Gift Certificate/Card  Amazon.com   \n",
       "\n",
       "  Shipment Date Shipping Address State Shipping Address Zip Order Status  \\\n",
       "0      07/06/07                     MA           01970-1947      Shipped   \n",
       "1      09/23/08                     MA           01970-1947      Shipped   \n",
       "2      02/15/11                     MA                 1970      Shipped   \n",
       "3      02/15/11                     MA                 1970      Shipped   \n",
       "4      02/13/11                     MA                 1970      Shipped   \n",
       "\n",
       "  Carrier Name & Tracking Number Subtotal Shipping Charge  \\\n",
       "0                              0   $14.40           $9.50   \n",
       "1        UPS(1Z4137VY0340540107)   $39.95           $9.99   \n",
       "2        UPS(1Z787Y561244238320)    $9.65           $3.43   \n",
       "3   USPS(9102901001302207651788)   $23.91           $3.98   \n",
       "4   USPS(9102901001298212501449)   $19.95           $2.32   \n",
       "\n",
       "  Tax Before Promotions Total Promotions Tax Charged  Total Charged  \n",
       "0                 $0.00            $0.00       $0.00          23.90  \n",
       "1                 $0.00            $0.00       $0.00          49.94  \n",
       "2                 $0.00            $3.43       $0.00           9.65  \n",
       "3                 $0.00            $3.98       $0.00          23.91  \n",
       "4                 $0.00            $2.32       $0.00          19.95  "
      ]
     },
     "execution_count": 4,
     "metadata": {},
     "output_type": "execute_result"
    }
   ],
   "source": [
    "# Convert Total Charged to float\n",
    "df[\"Total Charged\"] = df[\"Total Charged\"].str.replace('$', '').astype(float)\n",
    "df.head()"
   ]
  },
  {
   "cell_type": "code",
   "execution_count": 5,
   "metadata": {},
   "outputs": [
    {
     "data": {
      "text/plain": [
       "12335.55"
      ]
     },
     "execution_count": 5,
     "metadata": {},
     "output_type": "execute_result"
    }
   ],
   "source": [
    "df[\"Total Charged\"].sum()"
   ]
  },
  {
   "cell_type": "markdown",
   "metadata": {},
   "source": [
    "It appears that my total spend on Amazon over 13 years is __$12,335.55.__\n",
    "\n",
    "Yikes. \n",
    "\n",
    "Let's see some other statistics on the Total Charged column."
   ]
  },
  {
   "cell_type": "code",
   "execution_count": 6,
   "metadata": {},
   "outputs": [
    {
     "data": {
      "text/plain": [
       "35.24442857142853"
      ]
     },
     "execution_count": 6,
     "metadata": {},
     "output_type": "execute_result"
    }
   ],
   "source": [
    "df[\"Total Charged\"].mean()"
   ]
  },
  {
   "cell_type": "code",
   "execution_count": 7,
   "metadata": {},
   "outputs": [
    {
     "data": {
      "text/plain": [
       "20.08"
      ]
     },
     "execution_count": 7,
     "metadata": {},
     "output_type": "execute_result"
    }
   ],
   "source": [
    "df[\"Total Charged\"].median()"
   ]
  },
  {
   "cell_type": "code",
   "execution_count": 8,
   "metadata": {},
   "outputs": [
    {
     "data": {
      "text/plain": [
       "728.2"
      ]
     },
     "execution_count": 8,
     "metadata": {},
     "output_type": "execute_result"
    }
   ],
   "source": [
    "df[\"Total Charged\"].max()"
   ]
  },
  {
   "cell_type": "code",
   "execution_count": 9,
   "metadata": {},
   "outputs": [
    {
     "data": {
      "text/plain": [
       "0.0"
      ]
     },
     "execution_count": 9,
     "metadata": {},
     "output_type": "execute_result"
    }
   ],
   "source": [
    "df[\"Total Charged\"].min()"
   ]
  },
  {
   "cell_type": "markdown",
   "metadata": {},
   "source": [
    "So my mean order was $35 per order.\n",
    "\n",
    "The MOST I've paid in one order was $728.20.\n",
    "\n",
    "The LEAST I've paid was $0, likely in the form of a free e-book."
   ]
  },
  {
   "cell_type": "markdown",
   "metadata": {},
   "source": [
    "### How Much Have I Paid in Sales Tax?"
   ]
  },
  {
   "cell_type": "code",
   "execution_count": 10,
   "metadata": {},
   "outputs": [
    {
     "data": {
      "text/html": [
       "<div>\n",
       "<style scoped>\n",
       "    .dataframe tbody tr th:only-of-type {\n",
       "        vertical-align: middle;\n",
       "    }\n",
       "\n",
       "    .dataframe tbody tr th {\n",
       "        vertical-align: top;\n",
       "    }\n",
       "\n",
       "    .dataframe thead th {\n",
       "        text-align: right;\n",
       "    }\n",
       "</style>\n",
       "<table border=\"1\" class=\"dataframe\">\n",
       "  <thead>\n",
       "    <tr style=\"text-align: right;\">\n",
       "      <th></th>\n",
       "      <th>Order Date</th>\n",
       "      <th>Order ID</th>\n",
       "      <th>Payment Instrument Type</th>\n",
       "      <th>Website</th>\n",
       "      <th>Shipment Date</th>\n",
       "      <th>Shipping Address State</th>\n",
       "      <th>Shipping Address Zip</th>\n",
       "      <th>Order Status</th>\n",
       "      <th>Carrier Name &amp; Tracking Number</th>\n",
       "      <th>Subtotal</th>\n",
       "      <th>Shipping Charge</th>\n",
       "      <th>Tax Before Promotions</th>\n",
       "      <th>Total Promotions</th>\n",
       "      <th>Tax Charged</th>\n",
       "      <th>Total Charged</th>\n",
       "    </tr>\n",
       "  </thead>\n",
       "  <tbody>\n",
       "    <tr>\n",
       "      <th>0</th>\n",
       "      <td>07/06/07</td>\n",
       "      <td>103-2764742-3491028</td>\n",
       "      <td>Visa - 1453</td>\n",
       "      <td>Amazon.com</td>\n",
       "      <td>07/06/07</td>\n",
       "      <td>MA</td>\n",
       "      <td>01970-1947</td>\n",
       "      <td>Shipped</td>\n",
       "      <td>0</td>\n",
       "      <td>$14.40</td>\n",
       "      <td>$9.50</td>\n",
       "      <td>$0.00</td>\n",
       "      <td>$0.00</td>\n",
       "      <td>0.0</td>\n",
       "      <td>23.90</td>\n",
       "    </tr>\n",
       "    <tr>\n",
       "      <th>1</th>\n",
       "      <td>09/22/08</td>\n",
       "      <td>104-7596537-6649000</td>\n",
       "      <td>Visa - 1453</td>\n",
       "      <td>Amazon.com</td>\n",
       "      <td>09/23/08</td>\n",
       "      <td>MA</td>\n",
       "      <td>01970-1947</td>\n",
       "      <td>Shipped</td>\n",
       "      <td>UPS(1Z4137VY0340540107)</td>\n",
       "      <td>$39.95</td>\n",
       "      <td>$9.99</td>\n",
       "      <td>$0.00</td>\n",
       "      <td>$0.00</td>\n",
       "      <td>0.0</td>\n",
       "      <td>49.94</td>\n",
       "    </tr>\n",
       "    <tr>\n",
       "      <th>2</th>\n",
       "      <td>02/11/11</td>\n",
       "      <td>102-5161586-1874623</td>\n",
       "      <td>Gift Certificate/Card</td>\n",
       "      <td>Amazon.com</td>\n",
       "      <td>02/15/11</td>\n",
       "      <td>MA</td>\n",
       "      <td>1970</td>\n",
       "      <td>Shipped</td>\n",
       "      <td>UPS(1Z787Y561244238320)</td>\n",
       "      <td>$9.65</td>\n",
       "      <td>$3.43</td>\n",
       "      <td>$0.00</td>\n",
       "      <td>$3.43</td>\n",
       "      <td>0.0</td>\n",
       "      <td>9.65</td>\n",
       "    </tr>\n",
       "    <tr>\n",
       "      <th>3</th>\n",
       "      <td>02/11/11</td>\n",
       "      <td>102-5161586-1874623</td>\n",
       "      <td>Gift Certificate/Card</td>\n",
       "      <td>Amazon.com</td>\n",
       "      <td>02/15/11</td>\n",
       "      <td>MA</td>\n",
       "      <td>1970</td>\n",
       "      <td>Shipped</td>\n",
       "      <td>USPS(9102901001302207651788)</td>\n",
       "      <td>$23.91</td>\n",
       "      <td>$3.98</td>\n",
       "      <td>$0.00</td>\n",
       "      <td>$3.98</td>\n",
       "      <td>0.0</td>\n",
       "      <td>23.91</td>\n",
       "    </tr>\n",
       "    <tr>\n",
       "      <th>4</th>\n",
       "      <td>02/11/11</td>\n",
       "      <td>102-5161586-1874623</td>\n",
       "      <td>Gift Certificate/Card</td>\n",
       "      <td>Amazon.com</td>\n",
       "      <td>02/13/11</td>\n",
       "      <td>MA</td>\n",
       "      <td>1970</td>\n",
       "      <td>Shipped</td>\n",
       "      <td>USPS(9102901001298212501449)</td>\n",
       "      <td>$19.95</td>\n",
       "      <td>$2.32</td>\n",
       "      <td>$0.00</td>\n",
       "      <td>$2.32</td>\n",
       "      <td>0.0</td>\n",
       "      <td>19.95</td>\n",
       "    </tr>\n",
       "  </tbody>\n",
       "</table>\n",
       "</div>"
      ],
      "text/plain": [
       "  Order Date             Order ID Payment Instrument Type     Website  \\\n",
       "0   07/06/07  103-2764742-3491028             Visa - 1453  Amazon.com   \n",
       "1   09/22/08  104-7596537-6649000             Visa - 1453  Amazon.com   \n",
       "2   02/11/11  102-5161586-1874623   Gift Certificate/Card  Amazon.com   \n",
       "3   02/11/11  102-5161586-1874623   Gift Certificate/Card  Amazon.com   \n",
       "4   02/11/11  102-5161586-1874623   Gift Certificate/Card  Amazon.com   \n",
       "\n",
       "  Shipment Date Shipping Address State Shipping Address Zip Order Status  \\\n",
       "0      07/06/07                     MA           01970-1947      Shipped   \n",
       "1      09/23/08                     MA           01970-1947      Shipped   \n",
       "2      02/15/11                     MA                 1970      Shipped   \n",
       "3      02/15/11                     MA                 1970      Shipped   \n",
       "4      02/13/11                     MA                 1970      Shipped   \n",
       "\n",
       "  Carrier Name & Tracking Number Subtotal Shipping Charge  \\\n",
       "0                              0   $14.40           $9.50   \n",
       "1        UPS(1Z4137VY0340540107)   $39.95           $9.99   \n",
       "2        UPS(1Z787Y561244238320)    $9.65           $3.43   \n",
       "3   USPS(9102901001302207651788)   $23.91           $3.98   \n",
       "4   USPS(9102901001298212501449)   $19.95           $2.32   \n",
       "\n",
       "  Tax Before Promotions Total Promotions  Tax Charged  Total Charged  \n",
       "0                 $0.00            $0.00          0.0          23.90  \n",
       "1                 $0.00            $0.00          0.0          49.94  \n",
       "2                 $0.00            $3.43          0.0           9.65  \n",
       "3                 $0.00            $3.98          0.0          23.91  \n",
       "4                 $0.00            $2.32          0.0          19.95  "
      ]
     },
     "execution_count": 10,
     "metadata": {},
     "output_type": "execute_result"
    }
   ],
   "source": [
    "df[\"Tax Charged\"] = df[\"Tax Charged\"].str.replace('$', '').astype(float)\n",
    "df.head()"
   ]
  },
  {
   "cell_type": "code",
   "execution_count": 11,
   "metadata": {},
   "outputs": [
    {
     "data": {
      "text/plain": [
       "529.94"
      ]
     },
     "execution_count": 11,
     "metadata": {},
     "output_type": "execute_result"
    }
   ],
   "source": [
    "df[\"Tax Charged\"].sum()"
   ]
  },
  {
   "cell_type": "code",
   "execution_count": 12,
   "metadata": {},
   "outputs": [
    {
     "data": {
      "text/plain": [
       "0.04296038684939059"
      ]
     },
     "execution_count": 12,
     "metadata": {},
     "output_type": "execute_result"
    }
   ],
   "source": [
    "df[\"Tax Charged\"].sum() / df[\"Total Charged\"].sum()"
   ]
  },
  {
   "cell_type": "markdown",
   "metadata": {},
   "source": [
    "I've effectively been paying a 4.3% tax rate on all of my orders.\n",
    "\n",
    "### Analyzing Amazon Spending Over Time"
   ]
  },
  {
   "cell_type": "code",
   "execution_count": 13,
   "metadata": {},
   "outputs": [
    {
     "data": {
      "text/html": [
       "<div>\n",
       "<style scoped>\n",
       "    .dataframe tbody tr th:only-of-type {\n",
       "        vertical-align: middle;\n",
       "    }\n",
       "\n",
       "    .dataframe tbody tr th {\n",
       "        vertical-align: top;\n",
       "    }\n",
       "\n",
       "    .dataframe thead th {\n",
       "        text-align: right;\n",
       "    }\n",
       "</style>\n",
       "<table border=\"1\" class=\"dataframe\">\n",
       "  <thead>\n",
       "    <tr style=\"text-align: right;\">\n",
       "      <th></th>\n",
       "      <th>Order Date</th>\n",
       "      <th>Order ID</th>\n",
       "      <th>Payment Instrument Type</th>\n",
       "      <th>Website</th>\n",
       "      <th>Shipment Date</th>\n",
       "      <th>Shipping Address State</th>\n",
       "      <th>Shipping Address Zip</th>\n",
       "      <th>Order Status</th>\n",
       "      <th>Carrier Name &amp; Tracking Number</th>\n",
       "      <th>Subtotal</th>\n",
       "      <th>Shipping Charge</th>\n",
       "      <th>Tax Before Promotions</th>\n",
       "      <th>Total Promotions</th>\n",
       "      <th>Tax Charged</th>\n",
       "      <th>Total Charged</th>\n",
       "    </tr>\n",
       "  </thead>\n",
       "  <tbody>\n",
       "    <tr>\n",
       "      <th>0</th>\n",
       "      <td>2007-07-06</td>\n",
       "      <td>103-2764742-3491028</td>\n",
       "      <td>Visa - 1453</td>\n",
       "      <td>Amazon.com</td>\n",
       "      <td>07/06/07</td>\n",
       "      <td>MA</td>\n",
       "      <td>01970-1947</td>\n",
       "      <td>Shipped</td>\n",
       "      <td>0</td>\n",
       "      <td>$14.40</td>\n",
       "      <td>$9.50</td>\n",
       "      <td>$0.00</td>\n",
       "      <td>$0.00</td>\n",
       "      <td>0.0</td>\n",
       "      <td>23.90</td>\n",
       "    </tr>\n",
       "    <tr>\n",
       "      <th>1</th>\n",
       "      <td>2008-09-22</td>\n",
       "      <td>104-7596537-6649000</td>\n",
       "      <td>Visa - 1453</td>\n",
       "      <td>Amazon.com</td>\n",
       "      <td>09/23/08</td>\n",
       "      <td>MA</td>\n",
       "      <td>01970-1947</td>\n",
       "      <td>Shipped</td>\n",
       "      <td>UPS(1Z4137VY0340540107)</td>\n",
       "      <td>$39.95</td>\n",
       "      <td>$9.99</td>\n",
       "      <td>$0.00</td>\n",
       "      <td>$0.00</td>\n",
       "      <td>0.0</td>\n",
       "      <td>49.94</td>\n",
       "    </tr>\n",
       "    <tr>\n",
       "      <th>2</th>\n",
       "      <td>2011-02-11</td>\n",
       "      <td>102-5161586-1874623</td>\n",
       "      <td>Gift Certificate/Card</td>\n",
       "      <td>Amazon.com</td>\n",
       "      <td>02/15/11</td>\n",
       "      <td>MA</td>\n",
       "      <td>1970</td>\n",
       "      <td>Shipped</td>\n",
       "      <td>UPS(1Z787Y561244238320)</td>\n",
       "      <td>$9.65</td>\n",
       "      <td>$3.43</td>\n",
       "      <td>$0.00</td>\n",
       "      <td>$3.43</td>\n",
       "      <td>0.0</td>\n",
       "      <td>9.65</td>\n",
       "    </tr>\n",
       "    <tr>\n",
       "      <th>3</th>\n",
       "      <td>2011-02-11</td>\n",
       "      <td>102-5161586-1874623</td>\n",
       "      <td>Gift Certificate/Card</td>\n",
       "      <td>Amazon.com</td>\n",
       "      <td>02/15/11</td>\n",
       "      <td>MA</td>\n",
       "      <td>1970</td>\n",
       "      <td>Shipped</td>\n",
       "      <td>USPS(9102901001302207651788)</td>\n",
       "      <td>$23.91</td>\n",
       "      <td>$3.98</td>\n",
       "      <td>$0.00</td>\n",
       "      <td>$3.98</td>\n",
       "      <td>0.0</td>\n",
       "      <td>23.91</td>\n",
       "    </tr>\n",
       "    <tr>\n",
       "      <th>4</th>\n",
       "      <td>2011-02-11</td>\n",
       "      <td>102-5161586-1874623</td>\n",
       "      <td>Gift Certificate/Card</td>\n",
       "      <td>Amazon.com</td>\n",
       "      <td>02/13/11</td>\n",
       "      <td>MA</td>\n",
       "      <td>1970</td>\n",
       "      <td>Shipped</td>\n",
       "      <td>USPS(9102901001298212501449)</td>\n",
       "      <td>$19.95</td>\n",
       "      <td>$2.32</td>\n",
       "      <td>$0.00</td>\n",
       "      <td>$2.32</td>\n",
       "      <td>0.0</td>\n",
       "      <td>19.95</td>\n",
       "    </tr>\n",
       "  </tbody>\n",
       "</table>\n",
       "</div>"
      ],
      "text/plain": [
       "  Order Date             Order ID Payment Instrument Type     Website  \\\n",
       "0 2007-07-06  103-2764742-3491028             Visa - 1453  Amazon.com   \n",
       "1 2008-09-22  104-7596537-6649000             Visa - 1453  Amazon.com   \n",
       "2 2011-02-11  102-5161586-1874623   Gift Certificate/Card  Amazon.com   \n",
       "3 2011-02-11  102-5161586-1874623   Gift Certificate/Card  Amazon.com   \n",
       "4 2011-02-11  102-5161586-1874623   Gift Certificate/Card  Amazon.com   \n",
       "\n",
       "  Shipment Date Shipping Address State Shipping Address Zip Order Status  \\\n",
       "0      07/06/07                     MA           01970-1947      Shipped   \n",
       "1      09/23/08                     MA           01970-1947      Shipped   \n",
       "2      02/15/11                     MA                 1970      Shipped   \n",
       "3      02/15/11                     MA                 1970      Shipped   \n",
       "4      02/13/11                     MA                 1970      Shipped   \n",
       "\n",
       "  Carrier Name & Tracking Number Subtotal Shipping Charge  \\\n",
       "0                              0   $14.40           $9.50   \n",
       "1        UPS(1Z4137VY0340540107)   $39.95           $9.99   \n",
       "2        UPS(1Z787Y561244238320)    $9.65           $3.43   \n",
       "3   USPS(9102901001302207651788)   $23.91           $3.98   \n",
       "4   USPS(9102901001298212501449)   $19.95           $2.32   \n",
       "\n",
       "  Tax Before Promotions Total Promotions  Tax Charged  Total Charged  \n",
       "0                 $0.00            $0.00          0.0          23.90  \n",
       "1                 $0.00            $0.00          0.0          49.94  \n",
       "2                 $0.00            $3.43          0.0           9.65  \n",
       "3                 $0.00            $3.98          0.0          23.91  \n",
       "4                 $0.00            $2.32          0.0          19.95  "
      ]
     },
     "execution_count": 13,
     "metadata": {},
     "output_type": "execute_result"
    }
   ],
   "source": [
    "df['Order Date'] = pd.to_datetime(df['Order Date'])\n",
    "df.head()"
   ]
  },
  {
   "cell_type": "code",
   "execution_count": 14,
   "metadata": {},
   "outputs": [
    {
     "data": {
      "text/plain": [
       "<matplotlib.axes._subplots.AxesSubplot at 0x121c82ad0>"
      ]
     },
     "execution_count": 14,
     "metadata": {},
     "output_type": "execute_result"
    },
    {
     "data": {
      "image/png": "[encoded data removed]",
      "text/plain": [
       "<Figure size 1440x720 with 1 Axes>"
      ]
     },
     "metadata": {
      "needs_background": "light"
     },
     "output_type": "display_data"
    }
   ],
   "source": [
    "%matplotlib inline\n",
    "\n",
    "df.plot.bar(x='Order Date', y='Total Charged', rot=90, figsize=(20,10))\n"
   ]
  },
  {
   "cell_type": "code",
   "execution_count": 15,
   "metadata": {},
   "outputs": [
    {
     "data": {
      "text/plain": [
       "Order Date\n",
       "2007-07-06    23.90\n",
       "2008-09-22    49.94\n",
       "2011-02-11    53.51\n",
       "2011-03-13    13.06\n",
       "2012-08-04    33.56\n",
       "Name: Total Charged, dtype: float64"
      ]
     },
     "execution_count": 15,
     "metadata": {},
     "output_type": "execute_result"
    }
   ],
   "source": [
    "daily_orders = df.groupby('Order Date').sum()[\"Total Charged\"]\n",
    "daily_orders.head()"
   ]
  },
  {
   "cell_type": "code",
   "execution_count": 16,
   "metadata": {},
   "outputs": [
    {
     "data": {
      "text/plain": [
       "<matplotlib.axes._subplots.AxesSubplot at 0x1229dd390>"
      ]
     },
     "execution_count": 16,
     "metadata": {},
     "output_type": "execute_result"
    },
    {
     "data": {
      "image/png": "[encoded data removed]",
      "text/plain": [
       "<Figure size 1440x720 with 1 Axes>"
      ]
     },
     "metadata": {
      "needs_background": "light"
     },
     "output_type": "display_data"
    }
   ],
   "source": [
    "daily_orders.plot.bar(figsize=(20,10))"
   ]
  },
  {
   "cell_type": "code",
   "execution_count": 17,
   "metadata": {},
   "outputs": [
    {
     "data": {
      "text/html": [
       "<div>\n",
       "<style scoped>\n",
       "    .dataframe tbody tr th:only-of-type {\n",
       "        vertical-align: middle;\n",
       "    }\n",
       "\n",
       "    .dataframe tbody tr th {\n",
       "        vertical-align: top;\n",
       "    }\n",
       "\n",
       "    .dataframe thead th {\n",
       "        text-align: right;\n",
       "    }\n",
       "</style>\n",
       "<table border=\"1\" class=\"dataframe\">\n",
       "  <thead>\n",
       "    <tr style=\"text-align: right;\">\n",
       "      <th></th>\n",
       "      <th>Order Date</th>\n",
       "      <th>Order ID</th>\n",
       "      <th>Payment Instrument Type</th>\n",
       "      <th>Website</th>\n",
       "      <th>Shipment Date</th>\n",
       "      <th>Shipping Address State</th>\n",
       "      <th>Shipping Address Zip</th>\n",
       "      <th>Order Status</th>\n",
       "      <th>Carrier Name &amp; Tracking Number</th>\n",
       "      <th>Subtotal</th>\n",
       "      <th>Shipping Charge</th>\n",
       "      <th>Tax Before Promotions</th>\n",
       "      <th>Total Promotions</th>\n",
       "      <th>Tax Charged</th>\n",
       "      <th>Total Charged</th>\n",
       "      <th>month_year</th>\n",
       "    </tr>\n",
       "  </thead>\n",
       "  <tbody>\n",
       "    <tr>\n",
       "      <th>0</th>\n",
       "      <td>2007-07-06</td>\n",
       "      <td>103-2764742-3491028</td>\n",
       "      <td>Visa - 1453</td>\n",
       "      <td>Amazon.com</td>\n",
       "      <td>07/06/07</td>\n",
       "      <td>MA</td>\n",
       "      <td>01970-1947</td>\n",
       "      <td>Shipped</td>\n",
       "      <td>0</td>\n",
       "      <td>$14.40</td>\n",
       "      <td>$9.50</td>\n",
       "      <td>$0.00</td>\n",
       "      <td>$0.00</td>\n",
       "      <td>0.0</td>\n",
       "      <td>23.90</td>\n",
       "      <td>2007-07</td>\n",
       "    </tr>\n",
       "    <tr>\n",
       "      <th>1</th>\n",
       "      <td>2008-09-22</td>\n",
       "      <td>104-7596537-6649000</td>\n",
       "      <td>Visa - 1453</td>\n",
       "      <td>Amazon.com</td>\n",
       "      <td>09/23/08</td>\n",
       "      <td>MA</td>\n",
       "      <td>01970-1947</td>\n",
       "      <td>Shipped</td>\n",
       "      <td>UPS(1Z4137VY0340540107)</td>\n",
       "      <td>$39.95</td>\n",
       "      <td>$9.99</td>\n",
       "      <td>$0.00</td>\n",
       "      <td>$0.00</td>\n",
       "      <td>0.0</td>\n",
       "      <td>49.94</td>\n",
       "      <td>2008-09</td>\n",
       "    </tr>\n",
       "    <tr>\n",
       "      <th>2</th>\n",
       "      <td>2011-02-11</td>\n",
       "      <td>102-5161586-1874623</td>\n",
       "      <td>Gift Certificate/Card</td>\n",
       "      <td>Amazon.com</td>\n",
       "      <td>02/15/11</td>\n",
       "      <td>MA</td>\n",
       "      <td>1970</td>\n",
       "      <td>Shipped</td>\n",
       "      <td>UPS(1Z787Y561244238320)</td>\n",
       "      <td>$9.65</td>\n",
       "      <td>$3.43</td>\n",
       "      <td>$0.00</td>\n",
       "      <td>$3.43</td>\n",
       "      <td>0.0</td>\n",
       "      <td>9.65</td>\n",
       "      <td>2011-02</td>\n",
       "    </tr>\n",
       "    <tr>\n",
       "      <th>3</th>\n",
       "      <td>2011-02-11</td>\n",
       "      <td>102-5161586-1874623</td>\n",
       "      <td>Gift Certificate/Card</td>\n",
       "      <td>Amazon.com</td>\n",
       "      <td>02/15/11</td>\n",
       "      <td>MA</td>\n",
       "      <td>1970</td>\n",
       "      <td>Shipped</td>\n",
       "      <td>USPS(9102901001302207651788)</td>\n",
       "      <td>$23.91</td>\n",
       "      <td>$3.98</td>\n",
       "      <td>$0.00</td>\n",
       "      <td>$3.98</td>\n",
       "      <td>0.0</td>\n",
       "      <td>23.91</td>\n",
       "      <td>2011-02</td>\n",
       "    </tr>\n",
       "    <tr>\n",
       "      <th>4</th>\n",
       "      <td>2011-02-11</td>\n",
       "      <td>102-5161586-1874623</td>\n",
       "      <td>Gift Certificate/Card</td>\n",
       "      <td>Amazon.com</td>\n",
       "      <td>02/13/11</td>\n",
       "      <td>MA</td>\n",
       "      <td>1970</td>\n",
       "      <td>Shipped</td>\n",
       "      <td>USPS(9102901001298212501449)</td>\n",
       "      <td>$19.95</td>\n",
       "      <td>$2.32</td>\n",
       "      <td>$0.00</td>\n",
       "      <td>$2.32</td>\n",
       "      <td>0.0</td>\n",
       "      <td>19.95</td>\n",
       "      <td>2011-02</td>\n",
       "    </tr>\n",
       "  </tbody>\n",
       "</table>\n",
       "</div>"
      ],
      "text/plain": [
       "  Order Date             Order ID Payment Instrument Type     Website  \\\n",
       "0 2007-07-06  103-2764742-3491028             Visa - 1453  Amazon.com   \n",
       "1 2008-09-22  104-7596537-6649000             Visa - 1453  Amazon.com   \n",
       "2 2011-02-11  102-5161586-1874623   Gift Certificate/Card  Amazon.com   \n",
       "3 2011-02-11  102-5161586-1874623   Gift Certificate/Card  Amazon.com   \n",
       "4 2011-02-11  102-5161586-1874623   Gift Certificate/Card  Amazon.com   \n",
       "\n",
       "  Shipment Date Shipping Address State Shipping Address Zip Order Status  \\\n",
       "0      07/06/07                     MA           01970-1947      Shipped   \n",
       "1      09/23/08                     MA           01970-1947      Shipped   \n",
       "2      02/15/11                     MA                 1970      Shipped   \n",
       "3      02/15/11                     MA                 1970      Shipped   \n",
       "4      02/13/11                     MA                 1970      Shipped   \n",
       "\n",
       "  Carrier Name & Tracking Number Subtotal Shipping Charge  \\\n",
       "0                              0   $14.40           $9.50   \n",
       "1        UPS(1Z4137VY0340540107)   $39.95           $9.99   \n",
       "2        UPS(1Z787Y561244238320)    $9.65           $3.43   \n",
       "3   USPS(9102901001302207651788)   $23.91           $3.98   \n",
       "4   USPS(9102901001298212501449)   $19.95           $2.32   \n",
       "\n",
       "  Tax Before Promotions Total Promotions  Tax Charged  Total Charged  \\\n",
       "0                 $0.00            $0.00          0.0          23.90   \n",
       "1                 $0.00            $0.00          0.0          49.94   \n",
       "2                 $0.00            $3.43          0.0           9.65   \n",
       "3                 $0.00            $3.98          0.0          23.91   \n",
       "4                 $0.00            $2.32          0.0          19.95   \n",
       "\n",
       "  month_year  \n",
       "0    2007-07  \n",
       "1    2008-09  \n",
       "2    2011-02  \n",
       "3    2011-02  \n",
       "4    2011-02  "
      ]
     },
     "execution_count": 17,
     "metadata": {},
     "output_type": "execute_result"
    }
   ],
   "source": [
    "df['month_year'] = pd.to_datetime(df['Order Date']).dt.to_period('M')\n",
    "df.head()"
   ]
  },
  {
   "cell_type": "code",
   "execution_count": 18,
   "metadata": {},
   "outputs": [
    {
     "data": {
      "text/plain": [
       "month_year\n",
       "2007-07    23.90\n",
       "2008-09    49.94\n",
       "2011-02    53.51\n",
       "2011-03    13.06\n",
       "2012-08    33.56\n",
       "Freq: M, Name: Total Charged, dtype: float64"
      ]
     },
     "execution_count": 18,
     "metadata": {},
     "output_type": "execute_result"
    }
   ],
   "source": [
    "monthly_orders = df.groupby('month_year').sum()[\"Total Charged\"]\n",
    "monthly_orders.head()"
   ]
  },
  {
   "cell_type": "code",
   "execution_count": 19,
   "metadata": {},
   "outputs": [
    {
     "data": {
      "text/plain": [
       "<matplotlib.axes._subplots.AxesSubplot at 0x1239cdfd0>"
      ]
     },
     "execution_count": 19,
     "metadata": {},
     "output_type": "execute_result"
    },
    {
     "data": {
      "image/png": "[encoded data removed]",
      "text/plain": [
       "<Figure size 1440x720 with 1 Axes>"
      ]
     },
     "metadata": {
      "needs_background": "light"
     },
     "output_type": "display_data"
    }
   ],
   "source": [
    "monthly_orders.plot.bar(figsize=(20,10))"
   ]
  },
  {
   "cell_type": "markdown",
   "metadata": {},
   "source": [
    "Not a bad graph, but the format is still a little difficult to understand. For example, you can't tell the general sense of time because each bar only represents a date where an order was made.\n",
    "\n",
    "It'd be better to see the trends over time, so I'll use Seaborn to create a better looking graph that captures all dates (even days with no orders).\n",
    "\n",
    "Let's make this a little prettier."
   ]
  },
  {
   "cell_type": "code",
   "execution_count": 20,
   "metadata": {},
   "outputs": [
    {
     "data": {
      "image/png": "[encoded data removed]",
      "text/plain": [
       "<Figure size 1080x360 with 1 Axes>"
      ]
     },
     "metadata": {
      "needs_background": "light"
     },
     "output_type": "display_data"
    }
   ],
   "source": [
    "# To design a prettier graph, while observing every day (even days with no orders)\n",
    "\n",
    "import seaborn as sns\n",
    "\n",
    "g = sns.relplot(x=\"Order Date\", y=\"Total Charged\", kind=\"line\", data=df, height=5, aspect=3)\n",
    "g.fig.autofmt_xdate()"
   ]
  },
  {
   "cell_type": "markdown",
   "metadata": {},
   "source": [
    "Now this graph is a _much_ better interpretation of how my online spending changed over the years.\n",
    "\n",
    "I can identify 3 distinct phases of my life where spikes in my spending occurred:\n",
    "1. Entered college in 2013\n",
    "2. Took a gap year in 2017, traveling and interning throughout the US\n",
    "3. Graduated USC in 2018 up until today\n",
    "\n",
    "These events represented different facets of my growth as a student and a professional.\n",
    "\n",
    "Reflecting on all of this now helps me realize how addicted to online shopping I was in the past. I haven't completely cured it, but I think my relationship with money, objects, and happiness have all been improved since graduating college in 2018."
   ]
  },
  {
   "cell_type": "code",
   "execution_count": 21,
   "metadata": {},
   "outputs": [
    {
     "data": {
      "image/png": "[encoded data removed]",
      "text/plain": [
       "<Figure size 1080x360 with 1 Axes>"
      ]
     },
     "metadata": {
      "needs_background": "light"
     },
     "output_type": "display_data"
    }
   ],
   "source": [
    "# Graph from 2013 - 2020\n",
    "\n",
    "import datetime as dt\n",
    "\n",
    "df_2013_2020 = df[df[\"Order Date\"] > dt.datetime(2013, 1, 1)]\n",
    "\n",
    "g = sns.relplot(x=\"Order Date\", y=\"Total Charged\", kind=\"line\", data=df_2013_2020, height=5, aspect=3)\n",
    "g.fig.autofmt_xdate()"
   ]
  },
  {
   "cell_type": "markdown",
   "metadata": {},
   "source": [
    "## Conclusion\n",
    "\n",
    "This whole project helped me reflect on my online spending as time went on.\n",
    "\n",
    "We learned:\n",
    "- How much I spent on Amazon during this period from 2007 - 2020.\n",
    "- What my highest, lowest, and average order totals were.\n",
    "- How much tax I paid, and the effective sales tax rate I paid.\n",
    "- How my spending fluctuated over time\n",
    "- On which days I spent the most money\n",
    "\n",
    "This is especially revealing to me as I seek to enter a new phase in my life, where I am more conscious with my spending habits.\n",
    "\n",
    "Project Inspiration Source: https://www.dataquest.io/blog/how-much-spent-amazon-data-analysis/"
   ]
  }
 ],
 "metadata": {
  "kernelspec": {
   "display_name": "Python 3",
   "language": "python",
   "name": "python3"
  },
  "language_info": {
   "codemirror_mode": {
    "name": "ipython",
    "version": 3
   },
   "file_extension": ".py",
   "mimetype": "text/x-python",
   "name": "python",
   "nbconvert_exporter": "python",
   "pygments_lexer": "ipython3",
   "version": "3.7.6"
  }
 },
 "nbformat": 4,
 "nbformat_minor": 4
}
